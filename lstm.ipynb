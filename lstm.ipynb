{
 "cells": [
  {
   "cell_type": "code",
   "execution_count": 4,
   "id": "16c9d06b-fe7d-40eb-8217-1fb642506fea",
   "metadata": {},
   "outputs": [
    {
     "ename": "ModuleNotFoundError",
     "evalue": "No module named 'torchsummary'",
     "output_type": "error",
     "traceback": [
      "\u001b[0;31m---------------------------------------------------------------------------\u001b[0m",
      "\u001b[0;31mModuleNotFoundError\u001b[0m                       Traceback (most recent call last)",
      "Input \u001b[0;32mIn [4]\u001b[0m, in \u001b[0;36m<cell line: 13>\u001b[0;34m()\u001b[0m\n\u001b[1;32m     11\u001b[0m \u001b[38;5;28;01mimport\u001b[39;00m \u001b[38;5;21;01mtorch\u001b[39;00m\u001b[38;5;21;01m.\u001b[39;00m\u001b[38;5;21;01moptim\u001b[39;00m \u001b[38;5;28;01mas\u001b[39;00m \u001b[38;5;21;01moptim\u001b[39;00m \n\u001b[1;32m     12\u001b[0m \u001b[38;5;28;01mfrom\u001b[39;00m \u001b[38;5;21;01mtorch\u001b[39;00m\u001b[38;5;21;01m.\u001b[39;00m\u001b[38;5;21;01mutils\u001b[39;00m\u001b[38;5;21;01m.\u001b[39;00m\u001b[38;5;21;01mdata\u001b[39;00m \u001b[38;5;28;01mimport\u001b[39;00m Dataset, DataLoader \n\u001b[0;32m---> 13\u001b[0m \u001b[38;5;28;01mfrom\u001b[39;00m \u001b[38;5;21;01mtorchsummary\u001b[39;00m \u001b[38;5;28;01mimport\u001b[39;00m summary\n",
      "\u001b[0;31mModuleNotFoundError\u001b[0m: No module named 'torchsummary'"
     ]
    }
   ],
   "source": [
    "import math\n",
    "import numpy as np\n",
    "import os \n",
    "import pandas as pd\n",
    "from sklearn import metrics\n",
    "import matplotlib.pyplot as plt\n",
    "\n",
    "import torch\n",
    "import torch.nn as nn \n",
    "import torch.nn.functional as F\n",
    "import torch.optim as optim \n",
    "from torch.utils.data import Dataset, DataLoader \n",
    "from torchsummary import summary"
   ]
  },
  {
   "cell_type": "code",
   "execution_count": 3,
   "id": "8a80c07c-e2d2-4195-b46b-5abbb098b503",
   "metadata": {},
   "outputs": [],
   "source": [
    "data_csv = './data/data_9_3_2023.csv'\n",
    "df_full = pd.read_csv(data_csv)"
   ]
  },
  {
   "cell_type": "code",
   "execution_count": 4,
   "id": "7b36abff-b4c2-4892-ae70-61309bbde473",
   "metadata": {},
   "outputs": [
    {
     "data": {
      "text/html": [
       "<div>\n",
       "<style scoped>\n",
       "    .dataframe tbody tr th:only-of-type {\n",
       "        vertical-align: middle;\n",
       "    }\n",
       "\n",
       "    .dataframe tbody tr th {\n",
       "        vertical-align: top;\n",
       "    }\n",
       "\n",
       "    .dataframe thead th {\n",
       "        text-align: right;\n",
       "    }\n",
       "</style>\n",
       "<table border=\"1\" class=\"dataframe\">\n",
       "  <thead>\n",
       "    <tr style=\"text-align: right;\">\n",
       "      <th></th>\n",
       "      <th>video_count</th>\n",
       "      <th>frame_count</th>\n",
       "      <th>eye</th>\n",
       "      <th>mouth</th>\n",
       "      <th>area_eye</th>\n",
       "      <th>area_mouth</th>\n",
       "      <th>pupil</th>\n",
       "      <th>label</th>\n",
       "    </tr>\n",
       "  </thead>\n",
       "  <tbody>\n",
       "    <tr>\n",
       "      <th>0</th>\n",
       "      <td>0</td>\n",
       "      <td>0</td>\n",
       "      <td>0.073999</td>\n",
       "      <td>0.271307</td>\n",
       "      <td>184.354345</td>\n",
       "      <td>881.008199</td>\n",
       "      <td>0.462096</td>\n",
       "      <td>1</td>\n",
       "    </tr>\n",
       "    <tr>\n",
       "      <th>1</th>\n",
       "      <td>0</td>\n",
       "      <td>1</td>\n",
       "      <td>0.084626</td>\n",
       "      <td>0.311049</td>\n",
       "      <td>188.483534</td>\n",
       "      <td>851.794056</td>\n",
       "      <td>0.463978</td>\n",
       "      <td>1</td>\n",
       "    </tr>\n",
       "    <tr>\n",
       "      <th>2</th>\n",
       "      <td>0</td>\n",
       "      <td>2</td>\n",
       "      <td>0.081439</td>\n",
       "      <td>0.288891</td>\n",
       "      <td>200.811384</td>\n",
       "      <td>800.032050</td>\n",
       "      <td>0.473497</td>\n",
       "      <td>1</td>\n",
       "    </tr>\n",
       "    <tr>\n",
       "      <th>3</th>\n",
       "      <td>0</td>\n",
       "      <td>3</td>\n",
       "      <td>0.083046</td>\n",
       "      <td>0.293956</td>\n",
       "      <td>200.400366</td>\n",
       "      <td>830.599106</td>\n",
       "      <td>0.473526</td>\n",
       "      <td>1</td>\n",
       "    </tr>\n",
       "    <tr>\n",
       "      <th>4</th>\n",
       "      <td>0</td>\n",
       "      <td>4</td>\n",
       "      <td>0.075235</td>\n",
       "      <td>0.312621</td>\n",
       "      <td>197.084739</td>\n",
       "      <td>866.972921</td>\n",
       "      <td>0.466438</td>\n",
       "      <td>1</td>\n",
       "    </tr>\n",
       "  </tbody>\n",
       "</table>\n",
       "</div>"
      ],
      "text/plain": [
       "   video_count  frame_count       eye     mouth    area_eye  area_mouth  \\\n",
       "0            0            0  0.073999  0.271307  184.354345  881.008199   \n",
       "1            0            1  0.084626  0.311049  188.483534  851.794056   \n",
       "2            0            2  0.081439  0.288891  200.811384  800.032050   \n",
       "3            0            3  0.083046  0.293956  200.400366  830.599106   \n",
       "4            0            4  0.075235  0.312621  197.084739  866.972921   \n",
       "\n",
       "      pupil  label  \n",
       "0  0.462096      1  \n",
       "1  0.463978      1  \n",
       "2  0.473497      1  \n",
       "3  0.473526      1  \n",
       "4  0.466438      1  "
      ]
     },
     "execution_count": 4,
     "metadata": {},
     "output_type": "execute_result"
    }
   ],
   "source": [
    "df_full.head()"
   ]
  },
  {
   "cell_type": "code",
   "execution_count": 5,
   "id": "a8c04948-8b11-4a92-8a8f-90a262acc46b",
   "metadata": {},
   "outputs": [
    {
     "data": {
      "text/plain": [
       "Index(['video_count', 'frame_count', 'eye', 'mouth', 'area_eye', 'area_mouth',\n",
       "       'pupil', 'label'],\n",
       "      dtype='object')"
      ]
     },
     "execution_count": 5,
     "metadata": {},
     "output_type": "execute_result"
    }
   ],
   "source": [
    "df_full.columns"
   ]
  },
  {
   "cell_type": "code",
   "execution_count": 6,
   "id": "b45dbaf3-f0ef-44b6-9598-28c9b709ad7e",
   "metadata": {},
   "outputs": [],
   "source": [
    "time_steps=5\n",
    "# arr = np.array(df_full).reshape(-1, time_steps, 8)\n",
    "# np.random.shuffle(arr)\n",
    "# arr = arr.reshape(-1, 8)\n",
    "\n",
    "# df_full = pd.DataFrame(arr, columns = df_full.columns)\n",
    "\n",
    "# df_full"
   ]
  },
  {
   "cell_type": "code",
   "execution_count": 7,
   "id": "6be3d89d-ce15-4b32-9a14-5feb34bf3595",
   "metadata": {},
   "outputs": [
    {
     "name": "stdout",
     "output_type": "stream",
     "text": [
      "[0, 14, 22, 24, 20, 11, 21, 10, 26, 3, 15, 25, 19, 5, 12, 23, 18, 6, 7, 17, 13, 8, 2, 4, 16, 1, 9]\n",
      "[0, 14, 22, 24, 20, 11, 21, 10, 26, 3, 15, 25, 19, 5, 12, 23, 18, 6, 7, 17, 13, 8]\n",
      "[16, 1, 9]\n",
      "[2, 4]\n"
     ]
    }
   ],
   "source": [
    "import random\n",
    "\n",
    "all_videos = df_full[\"video_count\"].max()\n",
    "to_train = math.ceil(all_videos*0.8)\n",
    "to_test = all_videos - to_train\n",
    "to_validate = math.ceil(to_test*0.3)\n",
    "videos = list(range(all_videos))\n",
    "random.shuffle(videos)\n",
    "\n",
    "print(videos)\n",
    "\n",
    "to_train_videos = videos[:to_train]\n",
    "to_test_videos = videos[to_train:to_validate+to_train]\n",
    "to_validate_videos = videos[to_validate+to_train:]\n",
    "\n",
    "if len(to_test_videos) < len(to_validate_videos):\n",
    "    temp = to_validate_videos\n",
    "    to_validate_videos = to_test_videos\n",
    "    to_test_videos = temp\n",
    "\n",
    "print(to_train_videos)\n",
    "print(to_test_videos)\n",
    "print(to_validate_videos)"
   ]
  },
  {
   "cell_type": "code",
   "execution_count": 16,
   "id": "730f5981-0a7e-4dce-9ad7-cab0ab01c2d2",
   "metadata": {},
   "outputs": [
    {
     "name": "stdout",
     "output_type": "stream",
     "text": [
      "<class 'pandas.core.frame.DataFrame'>\n",
      "Int64Index: 660 entries, 220 to 3739\n",
      "Data columns (total 8 columns):\n",
      " #   Column       Non-Null Count  Dtype  \n",
      "---  ------       --------------  -----  \n",
      " 0   video_count  660 non-null    int64  \n",
      " 1   frame_count  660 non-null    int64  \n",
      " 2   eye          660 non-null    float64\n",
      " 3   mouth        660 non-null    float64\n",
      " 4   area_eye     660 non-null    float64\n",
      " 5   area_mouth   660 non-null    float64\n",
      " 6   pupil        660 non-null    float64\n",
      " 7   label        660 non-null    int64  \n",
      "dtypes: float64(5), int64(3)\n",
      "memory usage: 46.4 KB\n"
     ]
    }
   ],
   "source": [
    "test_df_full = df_full.apply(lambda row: row[df_full['video_count'].isin(to_test_videos)])\n",
    "test_df_full.info()"
   ]
  },
  {
   "cell_type": "code",
   "execution_count": 17,
   "id": "bdff9689-5575-44ef-b1cc-65d014a9a2e9",
   "metadata": {},
   "outputs": [
    {
     "name": "stdout",
     "output_type": "stream",
     "text": [
      "<class 'pandas.core.frame.DataFrame'>\n",
      "Int64Index: 4840 entries, 0 to 5939\n",
      "Data columns (total 8 columns):\n",
      " #   Column       Non-Null Count  Dtype  \n",
      "---  ------       --------------  -----  \n",
      " 0   video_count  4840 non-null   int64  \n",
      " 1   frame_count  4840 non-null   int64  \n",
      " 2   eye          4840 non-null   float64\n",
      " 3   mouth        4840 non-null   float64\n",
      " 4   area_eye     4840 non-null   float64\n",
      " 5   area_mouth   4840 non-null   float64\n",
      " 6   pupil        4840 non-null   float64\n",
      " 7   label        4840 non-null   int64  \n",
      "dtypes: float64(5), int64(3)\n",
      "memory usage: 340.3 KB\n"
     ]
    }
   ],
   "source": [
    "train_df_full = df_full.apply(lambda row: row[df_full['video_count'].isin(to_train_videos)])\n",
    "train_df_full.info()"
   ]
  },
  {
   "cell_type": "code",
   "execution_count": 18,
   "id": "4ea88958-0ae2-439e-83cb-d25c9920af6d",
   "metadata": {},
   "outputs": [
    {
     "name": "stdout",
     "output_type": "stream",
     "text": [
      "<class 'pandas.core.frame.DataFrame'>\n",
      "Int64Index: 440 entries, 440 to 1099\n",
      "Data columns (total 8 columns):\n",
      " #   Column       Non-Null Count  Dtype  \n",
      "---  ------       --------------  -----  \n",
      " 0   video_count  440 non-null    int64  \n",
      " 1   frame_count  440 non-null    int64  \n",
      " 2   eye          440 non-null    float64\n",
      " 3   mouth        440 non-null    float64\n",
      " 4   area_eye     440 non-null    float64\n",
      " 5   area_mouth   440 non-null    float64\n",
      " 6   pupil        440 non-null    float64\n",
      " 7   label        440 non-null    int64  \n",
      "dtypes: float64(5), int64(3)\n",
      "memory usage: 30.9 KB\n"
     ]
    }
   ],
   "source": [
    "val_df_full = df_full.apply(lambda row: row[df_full['video_count'].isin(to_validate_videos)])\n",
    "val_df_full.info()"
   ]
  },
  {
   "cell_type": "code",
   "execution_count": 19,
   "id": "0cd4a93d-78d9-41df-bf16-2774e213ebc3",
   "metadata": {},
   "outputs": [
    {
     "name": "stdout",
     "output_type": "stream",
     "text": [
      "<class 'pandas.core.frame.DataFrame'>\n",
      "Int64Index: 660 entries, 220 to 3739\n",
      "Data columns (total 6 columns):\n",
      " #   Column      Non-Null Count  Dtype  \n",
      "---  ------      --------------  -----  \n",
      " 0   eye         660 non-null    float64\n",
      " 1   mouth       660 non-null    float64\n",
      " 2   area_eye    660 non-null    float64\n",
      " 3   area_mouth  660 non-null    float64\n",
      " 4   pupil       660 non-null    float64\n",
      " 5   label       660 non-null    int64  \n",
      "dtypes: float64(5), int64(1)\n",
      "memory usage: 36.1 KB\n"
     ]
    }
   ],
   "source": [
    "test_df = test_df_full.drop(['video_count', 'frame_count'], axis=1)\n",
    "test_df.info()"
   ]
  },
  {
   "cell_type": "code",
   "execution_count": 20,
   "id": "505a3976-cd95-4745-bc8f-5a2be3963ff4",
   "metadata": {},
   "outputs": [
    {
     "name": "stdout",
     "output_type": "stream",
     "text": [
      "<class 'pandas.core.frame.DataFrame'>\n",
      "Int64Index: 4840 entries, 0 to 5939\n",
      "Data columns (total 6 columns):\n",
      " #   Column      Non-Null Count  Dtype  \n",
      "---  ------      --------------  -----  \n",
      " 0   eye         4840 non-null   float64\n",
      " 1   mouth       4840 non-null   float64\n",
      " 2   area_eye    4840 non-null   float64\n",
      " 3   area_mouth  4840 non-null   float64\n",
      " 4   pupil       4840 non-null   float64\n",
      " 5   label       4840 non-null   int64  \n",
      "dtypes: float64(5), int64(1)\n",
      "memory usage: 264.7 KB\n"
     ]
    }
   ],
   "source": [
    "train_df = train_df_full.drop(['video_count','frame_count'], axis=1)\n",
    "train_df.info()"
   ]
  },
  {
   "cell_type": "code",
   "execution_count": 21,
   "id": "b36b6535-fb65-4a05-ba14-b44a8c7edc4a",
   "metadata": {},
   "outputs": [
    {
     "name": "stdout",
     "output_type": "stream",
     "text": [
      "<class 'pandas.core.frame.DataFrame'>\n",
      "Int64Index: 440 entries, 440 to 1099\n",
      "Data columns (total 6 columns):\n",
      " #   Column      Non-Null Count  Dtype  \n",
      "---  ------      --------------  -----  \n",
      " 0   eye         440 non-null    float64\n",
      " 1   mouth       440 non-null    float64\n",
      " 2   area_eye    440 non-null    float64\n",
      " 3   area_mouth  440 non-null    float64\n",
      " 4   pupil       440 non-null    float64\n",
      " 5   label       440 non-null    int64  \n",
      "dtypes: float64(5), int64(1)\n",
      "memory usage: 24.1 KB\n"
     ]
    }
   ],
   "source": [
    "val_df = val_df_full.drop(['video_count', 'frame_count'], axis=1)\n",
    "val_df.info()"
   ]
  },
  {
   "cell_type": "code",
   "execution_count": 22,
   "id": "41f7e805-7678-41bf-9fb3-a548b100e40e",
   "metadata": {},
   "outputs": [],
   "source": [
    "class FFEDataset(Dataset):\n",
    "  def __init__ (self, data, labels, time_steps=5, n_features=4):\n",
    "    super(FFEDataset, self).__init__()\n",
    "    self.time_steps = time_steps\n",
    "    self.n_features = n_features\n",
    "    \n",
    "    # arr = np.array(data).reshape(-1, time_steps, self.n_features)\n",
    "    # Y = arr[:, :, -1]\n",
    "    # Y = Y[:, 0:1]\n",
    "    \n",
    "    self.data = np.array(data).reshape(-1, self.time_steps, self.n_features)\n",
    "    self.labels = labels\n",
    "    \n",
    "  \n",
    "  def __len__(self):\n",
    "    return len(self.labels)\n",
    "\n",
    "  def __getitem__(self, index):\n",
    "    return torch.FloatTensor(self.data[index]), torch.FloatTensor(self.labels[index])"
   ]
  },
  {
   "cell_type": "code",
   "execution_count": 14,
   "id": "bca84224-55f7-4826-902a-a7498e67e06e",
   "metadata": {},
   "outputs": [],
   "source": [
    "# df = df_full.drop(['video_count','frame_count', 'label'], axis=1)\n",
    "# label = df_full['label']\n",
    "\n",
    "\n",
    "# df_test = df_full.drop(['video_count','frame_count'], axis=1)\n",
    "# arr = np.array(df_test).reshape(-1, time_steps, 6)\n",
    "# Y = arr[:, :, -1]\n",
    "# Y = Y[:, 0:1]\n",
    "\n",
    "# dataset = FFEDataset(df,Y, time_steps=time_steps, n_features=5)\n",
    "\n",
    "\n",
    "# train_size = int(0.8 * len(dataset))\n",
    "\n",
    "# print(len(dataset))\n",
    "# train_size = 1032\n",
    "\n",
    "# test_size = len(dataset) - train_size\n",
    "\n",
    "# test_size  = 200\n",
    "\n",
    "# train_dataset, test_dataset = torch.utils.data.random_split(dataset, [train_size, test_size])\n",
    "\n",
    "# val_size = int(test_size * 0.5)\n",
    "# test_size = test_size - val_size\n",
    "\n",
    "# test_dataset, val_dataset = torch.utils.data.random_split(test_dataset, [test_size, val_size])"
   ]
  },
  {
   "cell_type": "code",
   "execution_count": 23,
   "id": "1c5c2f5d-9936-41b7-85fd-c40954ace41c",
   "metadata": {},
   "outputs": [],
   "source": [
    "X = train_df.drop(['label'], axis=1)\n",
    "arr = np.array(train_df).reshape(-1, time_steps, 6)\n",
    "Y = arr[:, :, -1]\n",
    "Y = Y[:, 0:1]\n",
    "\n",
    "train_dataset = FFEDataset(X,Y, time_steps=time_steps, n_features=5)"
   ]
  },
  {
   "cell_type": "code",
   "execution_count": 24,
   "id": "4ce5eeae-c5b9-48aa-9c18-c758b344cb2d",
   "metadata": {},
   "outputs": [],
   "source": [
    "X = test_df.drop(['label'], axis=1)\n",
    "arr = np.array(test_df).reshape(-1, time_steps, 6)\n",
    "Y = arr[:, :, -1]\n",
    "Y = Y[:, 0:1]\n",
    "\n",
    "test_dataset = FFEDataset(X,Y, time_steps=time_steps, n_features=5)"
   ]
  },
  {
   "cell_type": "code",
   "execution_count": 25,
   "id": "900f9d97-6d01-4b9a-9361-68afc6993f2d",
   "metadata": {},
   "outputs": [],
   "source": [
    "X = val_df.drop(['label'], axis=1)\n",
    "arr = np.array(val_df).reshape(-1, time_steps, 6)\n",
    "Y = arr[:, :, -1]\n",
    "Y = Y[:, 0:1]\n",
    "\n",
    "val_dataset = FFEDataset(X,Y, time_steps=time_steps, n_features=5)"
   ]
  },
  {
   "cell_type": "code",
   "execution_count": 26,
   "id": "4c46d2ac-456e-4947-9eb5-c77f35d5599f",
   "metadata": {},
   "outputs": [
    {
     "data": {
      "text/plain": [
       "132"
      ]
     },
     "execution_count": 26,
     "metadata": {},
     "output_type": "execute_result"
    }
   ],
   "source": [
    "len(test_dataset)"
   ]
  },
  {
   "cell_type": "code",
   "execution_count": 27,
   "id": "58dff059-4ed9-47e7-8f74-520a6d6fcabd",
   "metadata": {},
   "outputs": [
    {
     "data": {
      "text/plain": [
       "968"
      ]
     },
     "execution_count": 27,
     "metadata": {},
     "output_type": "execute_result"
    }
   ],
   "source": [
    "len(train_dataset)"
   ]
  },
  {
   "cell_type": "code",
   "execution_count": 28,
   "id": "2394354e-2dc5-423a-a9c0-7d2d46f66a6d",
   "metadata": {},
   "outputs": [
    {
     "data": {
      "text/plain": [
       "88"
      ]
     },
     "execution_count": 28,
     "metadata": {},
     "output_type": "execute_result"
    }
   ],
   "source": [
    "len(val_dataset)"
   ]
  },
  {
   "cell_type": "code",
   "execution_count": 29,
   "id": "d38b4cd8-5a25-4c17-9bfc-43b6dbd31781",
   "metadata": {},
   "outputs": [],
   "source": [
    "batch_size = 4\n",
    "\n",
    "train_loader = DataLoader(train_dataset, batch_size=batch_size, shuffle=True, drop_last=True)\n",
    "val_loader = DataLoader(val_dataset, batch_size=batch_size, shuffle=False)\n",
    "test_loader = DataLoader(test_dataset, batch_size=1, shuffle=False)"
   ]
  },
  {
   "cell_type": "code",
   "execution_count": 30,
   "id": "72b1422a-231a-439e-90a5-acd8d71fd039",
   "metadata": {},
   "outputs": [],
   "source": [
    "class CLF_LSTM(nn.Module):\n",
    "  def __init__(self, batch_size):\n",
    "    super(CLF_LSTM, self).__init__()\n",
    "    self.x_dim = 5\n",
    "    self.time_steps = 5\n",
    "    self.input_dim = 64\n",
    "    self.hidden_dim = 64\n",
    "    self.num_layers = 2\n",
    "    self.batch_size = batch_size\n",
    "    self.pre_fc = nn.Linear(self.time_steps * self.x_dim, self.time_steps * self.input_dim)\n",
    "    self.lstm = nn.LSTM(self.input_dim, self.hidden_dim, self.num_layers, batch_first=True)\n",
    "    self.d1 = nn.Dropout(p=0.5)\n",
    "    self.fc1 = nn.Linear(self.hidden_dim, 256)\n",
    "    self.d2 = nn.Dropout(p=0.5)\n",
    "    self.fc2 = nn.Linear(256, 64)\n",
    "    self.fc3 = nn.Linear(64, 8)\n",
    "    self.fc4 = nn.Linear(8, 1)\n",
    "    \n",
    "  def init_hidden(self):\n",
    "    self.hidden = (torch.zeros((self.num_layers, self.batch_size, self.hidden_dim)), \\\n",
    "    torch.zeros((self.num_layers, self.batch_size, self.hidden_dim)))\n",
    "  \n",
    "  def forward(self, x):\n",
    "    self.init_hidden()\n",
    "    out = x.reshape(-1, self.time_steps * self.x_dim)\n",
    "    out = F.relu(self.pre_fc(out))\n",
    "    out = out.reshape(-1, self.time_steps, self.input_dim)\n",
    "    out, self.hidden = self.lstm(out, self.hidden)\n",
    "    out = out[:, -1, :]\n",
    "    out = self.d1(out)\n",
    "    out = F.relu(self.fc1(out))\n",
    "    out = self.d2(out)\n",
    "    out = F.relu(self.fc2(out))\n",
    "    out = F.relu(self.fc3(out))\n",
    "    out = self.fc4(out)\n",
    "    return out"
   ]
  },
  {
   "cell_type": "code",
   "execution_count": 31,
   "id": "7b05c1d5-8b1b-45ee-95dd-fc4145394959",
   "metadata": {},
   "outputs": [],
   "source": [
    "model = CLF_LSTM(batch_size)"
   ]
  },
  {
   "cell_type": "code",
   "execution_count": 32,
   "id": "2769ea61-6607-40ae-be3d-1387ccf4afa5",
   "metadata": {},
   "outputs": [
    {
     "data": {
      "text/plain": [
       "CLF_LSTM(\n",
       "  (pre_fc): Linear(in_features=25, out_features=320, bias=True)\n",
       "  (lstm): LSTM(64, 64, num_layers=2, batch_first=True)\n",
       "  (d1): Dropout(p=0.5, inplace=False)\n",
       "  (fc1): Linear(in_features=64, out_features=256, bias=True)\n",
       "  (d2): Dropout(p=0.5, inplace=False)\n",
       "  (fc2): Linear(in_features=256, out_features=64, bias=True)\n",
       "  (fc3): Linear(in_features=64, out_features=8, bias=True)\n",
       "  (fc4): Linear(in_features=8, out_features=1, bias=True)\n",
       ")"
      ]
     },
     "execution_count": 32,
     "metadata": {},
     "output_type": "execute_result"
    }
   ],
   "source": [
    "model"
   ]
  },
  {
   "cell_type": "code",
   "execution_count": 36,
   "id": "92973644-306d-4f18-b3b6-942df7356841",
   "metadata": {},
   "outputs": [],
   "source": [
    "for param in model.parameters():\n",
    "  param.requires_grad = True\n",
    "\n",
    "lr = 0.001\n",
    "device = torch.device(\"cuda:0\" if torch.cuda.is_available() else \"cpu\")\n",
    "opt = optim.SGD(model.parameters(), lr=lr, momentum=0.9)\n",
    "criterion = nn.BCEWithLogitsLoss(pos_weight = torch.tensor([2]))"
   ]
  },
  {
   "cell_type": "code",
   "execution_count": 25,
   "id": "30892801-ac30-4630-bfae-b0f6e998f64a",
   "metadata": {},
   "outputs": [],
   "source": [
    "def train_model(epochs, opt, model, model_path):\n",
    "  train_loss = []\n",
    "  val_loss = []\n",
    "  min_loss = np.Inf\n",
    "  max_acc = 0\n",
    "\n",
    "  for e in range(epochs):\n",
    "    running_loss = 0.0\n",
    "    model.train()\n",
    "    model.to(device)\n",
    "    for batch_data, batch_label in iter(train_loader):\n",
    "      batch_data = batch_data.to(device)\n",
    "      batch_label = batch_label.to(device)\n",
    "      \n",
    "      opt.zero_grad()\n",
    "\n",
    "      batch_pred = model(batch_data)\n",
    "\n",
    "      loss = criterion(batch_pred, batch_label)\n",
    "      loss.backward()\n",
    "      opt.step()\n",
    "      running_loss += loss.item()\n",
    "    train_loss.append(running_loss / len(train_dataset))\n",
    "\n",
    "    model.eval()\n",
    "\n",
    "    val_labels = np.zeros((len(val_dataset), 1))\n",
    "    val_preds = np.zeros((len(val_dataset), 1))\n",
    "    indx = 0\n",
    "    running_loss = 0.0\n",
    "    for batch_data, batch_label in iter(val_loader):\n",
    "      batch_data = batch_data.to(device)\n",
    "      batch_label = batch_label.to(device)\n",
    "      with torch.no_grad():\n",
    "        batch_pred = model(batch_data)\n",
    "        loss = criterion(batch_pred, batch_label)\n",
    "        running_loss += loss.item()\n",
    "      batch_pred = torch.sigmoid(batch_pred).gt(0.5).int()\n",
    "      val_preds[ indx : (indx + batch_pred.shape[0]), :] = batch_pred.to(\"cpu\").data.numpy()\n",
    "      val_labels[ indx : (indx + batch_label.shape[0]), :] = batch_label.to(\"cpu\").data.numpy()\n",
    "      indx = indx + batch_pred.shape[0]\n",
    "    val_loss.append(running_loss / len(val_dataset))\n",
    "    val_acc = metrics.accuracy_score(val_labels, val_preds)\n",
    "\n",
    "    if val_loss[-1] < min_loss:\n",
    "      min_loss = val_loss[-1]\n",
    "      model.to(\"cpu\")\n",
    "      torch.save(model.state_dict(), model_path)\n",
    "      print ('saved model at epoch = %d for Min val loss' %(e))\n",
    "\n",
    "\n",
    "    if e % 2 == 0:\n",
    "      print ('epoch=%d training_loss=%.4f val_loss=%.4f  val_acc = %.4f' %(e, train_loss[-1], val_loss[-1], val_acc))\n",
    "    \n",
    "  plt.plot(range(len(train_loss)), train_loss)\n",
    "  plt.plot(range(len(val_loss)), val_loss)\n",
    "  plt.legend([\"Train Loss\", \"Val Loss\"], loc=\"upper right\")\n",
    "\n"
   ]
  },
  {
   "cell_type": "code",
   "execution_count": 26,
   "id": "e1d9fafd-f8fd-475c-add2-0bb2cf765c7c",
   "metadata": {},
   "outputs": [
    {
     "name": "stdout",
     "output_type": "stream",
     "text": [
      "saved model at epoch = 0 for Min val loss\n",
      "epoch=0 training_loss=0.2525 val_loss=0.2883  val_acc = 1.0000\n",
      "saved model at epoch = 1 for Min val loss\n",
      "saved model at epoch = 2 for Min val loss\n",
      "epoch=2 training_loss=0.2408 val_loss=0.2375  val_acc = 1.0000\n",
      "saved model at epoch = 4 for Min val loss\n",
      "epoch=4 training_loss=0.2407 val_loss=0.2331  val_acc = 1.0000\n",
      "epoch=6 training_loss=0.2406 val_loss=0.2331  val_acc = 1.0000\n",
      "saved model at epoch = 7 for Min val loss\n",
      "saved model at epoch = 8 for Min val loss\n",
      "epoch=8 training_loss=0.2406 val_loss=0.2325  val_acc = 1.0000\n",
      "epoch=10 training_loss=0.2406 val_loss=0.2394  val_acc = 1.0000\n",
      "epoch=12 training_loss=0.2405 val_loss=0.2342  val_acc = 1.0000\n",
      "saved model at epoch = 13 for Min val loss\n",
      "epoch=14 training_loss=0.2405 val_loss=0.2336  val_acc = 1.0000\n",
      "epoch=16 training_loss=0.2406 val_loss=0.2354  val_acc = 1.0000\n",
      "epoch=18 training_loss=0.2408 val_loss=0.2330  val_acc = 1.0000\n",
      "epoch=20 training_loss=0.2404 val_loss=0.2334  val_acc = 1.0000\n",
      "saved model at epoch = 21 for Min val loss\n",
      "epoch=22 training_loss=0.2404 val_loss=0.2322  val_acc = 1.0000\n",
      "epoch=24 training_loss=0.2404 val_loss=0.2294  val_acc = 1.0000\n",
      "epoch=26 training_loss=0.2403 val_loss=0.2314  val_acc = 1.0000\n",
      "epoch=28 training_loss=0.2402 val_loss=0.2360  val_acc = 1.0000\n",
      "epoch=30 training_loss=0.2401 val_loss=0.2349  val_acc = 1.0000\n",
      "epoch=32 training_loss=0.2400 val_loss=0.2299  val_acc = 1.0000\n",
      "epoch=34 training_loss=0.2400 val_loss=0.2340  val_acc = 1.0000\n",
      "epoch=36 training_loss=0.2400 val_loss=0.2320  val_acc = 1.0000\n",
      "epoch=38 training_loss=0.2399 val_loss=0.2450  val_acc = 1.0000\n",
      "epoch=40 training_loss=0.2397 val_loss=0.2378  val_acc = 1.0000\n",
      "saved model at epoch = 41 for Min val loss\n",
      "epoch=42 training_loss=0.2398 val_loss=0.2438  val_acc = 1.0000\n",
      "epoch=44 training_loss=0.2389 val_loss=0.2347  val_acc = 1.0000\n",
      "epoch=46 training_loss=0.2390 val_loss=0.2346  val_acc = 1.0000\n",
      "saved model at epoch = 47 for Min val loss\n",
      "epoch=48 training_loss=0.2377 val_loss=0.2350  val_acc = 1.0000\n",
      "saved model at epoch = 49 for Min val loss\n",
      "epoch=50 training_loss=0.2401 val_loss=0.2750  val_acc = 1.0000\n",
      "epoch=52 training_loss=0.2383 val_loss=0.2322  val_acc = 1.0000\n",
      "epoch=54 training_loss=0.2388 val_loss=0.2329  val_acc = 1.0000\n",
      "epoch=56 training_loss=0.2392 val_loss=0.2562  val_acc = 1.0000\n",
      "epoch=58 training_loss=0.2399 val_loss=0.2184  val_acc = 1.0000\n",
      "saved model at epoch = 59 for Min val loss\n",
      "epoch=60 training_loss=0.2390 val_loss=0.2729  val_acc = 1.0000\n",
      "epoch=62 training_loss=0.2397 val_loss=0.2273  val_acc = 1.0000\n",
      "epoch=64 training_loss=0.2400 val_loss=0.2401  val_acc = 1.0000\n",
      "epoch=66 training_loss=0.2385 val_loss=0.2808  val_acc = 1.0000\n",
      "saved model at epoch = 68 for Min val loss\n",
      "epoch=68 training_loss=0.2360 val_loss=0.1858  val_acc = 1.0000\n",
      "epoch=70 training_loss=0.2397 val_loss=0.1898  val_acc = 1.0000\n",
      "epoch=72 training_loss=0.2379 val_loss=0.2506  val_acc = 1.0000\n",
      "epoch=74 training_loss=0.2337 val_loss=0.2813  val_acc = 1.0000\n",
      "saved model at epoch = 76 for Min val loss\n",
      "epoch=76 training_loss=0.2399 val_loss=0.1635  val_acc = 1.0000\n",
      "saved model at epoch = 78 for Min val loss\n",
      "epoch=78 training_loss=0.2362 val_loss=0.1419  val_acc = 1.0000\n"
     ]
    },
    {
     "data": {
      "image/png": "[encoded data removed]",
      "text/plain": [
       "<Figure size 432x288 with 1 Axes>"
      ]
     },
     "metadata": {
      "needs_background": "light"
     },
     "output_type": "display_data"
    }
   ],
   "source": [
    "train_model(80, opt, model, './models/clf_lstm.pth')"
   ]
  },
  {
   "cell_type": "code",
   "execution_count": 34,
   "id": "73e1ee79-f32e-4775-95af-1c35ecb65779",
   "metadata": {},
   "outputs": [],
   "source": [
    "def val_model(model):\n",
    "  test_preds = np.zeros((len(val_dataset), 1))\n",
    "  test_labels = np.zeros((len(val_dataset), 1))\n",
    "  print(len(val_dataset))\n",
    "    \n",
    "  model.to(device)\n",
    "  model.eval()\n",
    "  indx = 0\n",
    "  with torch.no_grad():\n",
    "    for batch_data, batch_labels in iter(val_loader):\n",
    "      batch_data = batch_data.to(device)\n",
    "      batch_labels = batch_labels.to(device)\n",
    "      batch_pred = torch.sigmoid(model(batch_data)).gt(0.5).int()\n",
    "      test_preds[ indx : (indx + batch_pred.shape[0]), :] = batch_pred.to(\"cpu\").data.numpy()\n",
    "      test_labels[ indx : (indx + batch_labels.shape[0]), :] = batch_labels.to(\"cpu\").data.numpy()\n",
    "      indx = indx + batch_pred.shape[0]\n",
    "  \n",
    "  accuracy = metrics.accuracy_score(test_labels, test_preds)\n",
    "  print ('accuracy', accuracy)\n",
    "  # print(test_preds)\n",
    "  # print(test_labels)\n",
    "\n",
    "  return accuracy, test_preds, test_labels"
   ]
  },
  {
   "cell_type": "code",
   "execution_count": 39,
   "id": "0d9db972-5a51-4574-8333-e6002159c405",
   "metadata": {},
   "outputs": [
    {
     "name": "stdout",
     "output_type": "stream",
     "text": [
      "88\n",
      "accuracy 1.0\n",
      "[[88]]\n"
     ]
    }
   ],
   "source": [
    "model = CLF_LSTM(batch_size=batch_size)\n",
    "model.load_state_dict(torch.load('./models/clf_lstm.pth'))\n",
    "accuracy, val_pred, val_lab = val_model(model)\n",
    "print (metrics.confusion_matrix(val_lab, val_pred))"
   ]
  },
  {
   "cell_type": "code",
   "execution_count": 40,
   "id": "dc3a877d-bb28-441e-88dc-96cfeb932115",
   "metadata": {},
   "outputs": [
    {
     "name": "stdout",
     "output_type": "stream",
     "text": [
      "132\n",
      "accuracy 0.6666666666666666\n"
     ]
    },
    {
     "data": {
      "text/plain": [
       "array([[ 0, 44],\n",
       "       [ 0, 88]])"
      ]
     },
     "execution_count": 40,
     "metadata": {},
     "output_type": "execute_result"
    }
   ],
   "source": [
    "def test_model(model):\n",
    "  test_preds = np.zeros((len(test_dataset), 1))\n",
    "  test_labels = np.zeros((len(test_dataset), 1))\n",
    "  print(len(test_dataset))\n",
    "  model.to(device)\n",
    "  model.eval()\n",
    "  indx = 0\n",
    "  with torch.no_grad():\n",
    "    for batch_data, batch_labels in test_loader:\n",
    "      batch_data = batch_data.to(device)\n",
    "      batch_labels = batch_labels.to(device)\n",
    "      batch_pred = torch.sigmoid(model(batch_data)).gt(0.5).int()\n",
    "      test_preds[ indx : (indx + batch_pred.shape[0]), :] = batch_pred.to(\"cpu\").data.numpy()\n",
    "      test_labels[ indx : (indx + batch_labels.shape[0]), :] = batch_labels.to(\"cpu\").data.numpy()\n",
    "      indx = indx + batch_pred.shape[0]\n",
    "  \n",
    "  accuracy = metrics.accuracy_score(test_labels, test_preds)\n",
    "  print ('accuracy', accuracy)\n",
    "  return accuracy, test_preds, test_labels\n",
    "\n",
    "model = CLF_LSTM(batch_size=1)\n",
    "model.load_state_dict(torch.load('./models/clf_lstm.pth'))\n",
    "accuracy, test_pred, test_lab = test_model(model)\n",
    "metrics.confusion_matrix(test_lab, test_pred)"
   ]
  },
  {
   "cell_type": "code",
   "execution_count": null,
   "id": "0d899b58-36cc-4058-b60f-6ca5fa0c6fba",
   "metadata": {},
   "outputs": [],
   "source": []
  }
 ],
 "metadata": {
  "kernelspec": {
   "display_name": "Python 3 (ipykernel)",
   "language": "python",
   "name": "python3"
  },
  "language_info": {
   "codemirror_mode": {
    "name": "ipython",
    "version": 3
   },
   "file_extension": ".py",
   "mimetype": "text/x-python",
   "name": "python",
   "nbconvert_exporter": "python",
   "pygments_lexer": "ipython3",
   "version": "3.9.12"
  }
 },
 "nbformat": 4,
 "nbformat_minor": 5
}
